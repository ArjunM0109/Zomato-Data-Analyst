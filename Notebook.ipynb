{
 "cells": [
  {
   "cell_type": "markdown",
   "id": "8037f674-5b13-402d-87f9-e9980e2b9c35",
   "metadata": {},
   "source": [
    "### step 1. Import Nacessary Python Libraries"
   ]
  },
  {
   "cell_type": "code",
   "execution_count": null,
   "id": "b5f85ab1-d136-4450-9621-ed327d225518",
   "metadata": {},
   "outputs": [],
   "source": []
  },
  {
   "cell_type": "code",
   "execution_count": 2,
   "id": "0d3dc6d4-dc7a-490a-a2dc-a0832131adb1",
   "metadata": {},
   "outputs": [],
   "source": [
    "import pandas as pd\n",
    "import numpy as np\n",
    "import matplotlib.pyplot as plt\n",
    "import seaborn as sns"
   ]
  },
  {
   "cell_type": "code",
   "execution_count": null,
   "id": "3f726b16-1cd8-4500-866c-b061c7ed2dbf",
   "metadata": {},
   "outputs": [],
   "source": []
  },
  {
   "cell_type": "markdown",
   "id": "14a06902-efdb-4f7c-9cf1-b3cd395f95ef",
   "metadata": {},
   "source": [
    "### step 2. Create Data Frame"
   ]
  },
  {
   "cell_type": "code",
   "execution_count": 4,
   "id": "4b50e447-7dc2-4100-a450-ed46fe992b29",
   "metadata": {},
   "outputs": [],
   "source": [
    "data = pd.read_csv(r'Zomato_data .csv')"
   ]
  },
  {
   "cell_type": "code",
   "execution_count": 5,
   "id": "c53da63f-6dfd-4bb0-843a-b52653089afa",
   "metadata": {},
   "outputs": [
    {
     "data": {
      "text/html": [
       "<div>\n",
       "<style scoped>\n",
       "    .dataframe tbody tr th:only-of-type {\n",
       "        vertical-align: middle;\n",
       "    }\n",
       "\n",
       "    .dataframe tbody tr th {\n",
       "        vertical-align: top;\n",
       "    }\n",
       "\n",
       "    .dataframe thead th {\n",
       "        text-align: right;\n",
       "    }\n",
       "</style>\n",
       "<table border=\"1\" class=\"dataframe\">\n",
       "  <thead>\n",
       "    <tr style=\"text-align: right;\">\n",
       "      <th></th>\n",
       "      <th>name</th>\n",
       "      <th>online_order</th>\n",
       "      <th>book_table</th>\n",
       "      <th>rate</th>\n",
       "      <th>votes</th>\n",
       "      <th>approx_cost(for two people)</th>\n",
       "      <th>listed_in(type)</th>\n",
       "    </tr>\n",
       "  </thead>\n",
       "  <tbody>\n",
       "    <tr>\n",
       "      <th>0</th>\n",
       "      <td>Jalsa</td>\n",
       "      <td>Yes</td>\n",
       "      <td>Yes</td>\n",
       "      <td>4.1/5</td>\n",
       "      <td>775</td>\n",
       "      <td>800</td>\n",
       "      <td>Buffet</td>\n",
       "    </tr>\n",
       "    <tr>\n",
       "      <th>1</th>\n",
       "      <td>Spice Elephant</td>\n",
       "      <td>Yes</td>\n",
       "      <td>No</td>\n",
       "      <td>4.1/5</td>\n",
       "      <td>787</td>\n",
       "      <td>800</td>\n",
       "      <td>Buffet</td>\n",
       "    </tr>\n",
       "    <tr>\n",
       "      <th>2</th>\n",
       "      <td>San Churro Cafe</td>\n",
       "      <td>Yes</td>\n",
       "      <td>No</td>\n",
       "      <td>3.8/5</td>\n",
       "      <td>918</td>\n",
       "      <td>800</td>\n",
       "      <td>Buffet</td>\n",
       "    </tr>\n",
       "  </tbody>\n",
       "</table>\n",
       "</div>"
      ],
      "text/plain": [
       "              name online_order book_table   rate  votes  \\\n",
       "0            Jalsa          Yes        Yes  4.1/5    775   \n",
       "1   Spice Elephant          Yes         No  4.1/5    787   \n",
       "2  San Churro Cafe          Yes         No  3.8/5    918   \n",
       "\n",
       "   approx_cost(for two people) listed_in(type)  \n",
       "0                          800          Buffet  \n",
       "1                          800          Buffet  \n",
       "2                          800          Buffet  "
      ]
     },
     "execution_count": 5,
     "metadata": {},
     "output_type": "execute_result"
    }
   ],
   "source": [
    "data.head(3)"
   ]
  },
  {
   "cell_type": "code",
   "execution_count": null,
   "id": "680c8b63-3758-4966-84ca-9188080815e8",
   "metadata": {},
   "outputs": [],
   "source": []
  },
  {
   "cell_type": "markdown",
   "id": "e197554f-d992-4361-9836-abe99ec89fbc",
   "metadata": {},
   "source": [
    "### step 3. convert the data type of the 'rate' column to flot and remove the denominator"
   ]
  },
  {
   "cell_type": "code",
   "execution_count": 6,
   "id": "719dcaf2-50fc-4780-bed4-bd58b36d3ba7",
   "metadata": {},
   "outputs": [
    {
     "name": "stdout",
     "output_type": "stream",
     "text": [
      "<class 'pandas.core.frame.DataFrame'>\n",
      "RangeIndex: 148 entries, 0 to 147\n",
      "Data columns (total 7 columns):\n",
      " #   Column                       Non-Null Count  Dtype \n",
      "---  ------                       --------------  ----- \n",
      " 0   name                         148 non-null    object\n",
      " 1   online_order                 148 non-null    object\n",
      " 2   book_table                   148 non-null    object\n",
      " 3   rate                         148 non-null    object\n",
      " 4   votes                        148 non-null    int64 \n",
      " 5   approx_cost(for two people)  148 non-null    int64 \n",
      " 6   listed_in(type)              148 non-null    object\n",
      "dtypes: int64(2), object(5)\n",
      "memory usage: 8.2+ KB\n"
     ]
    }
   ],
   "source": [
    "data.info()"
   ]
  },
  {
   "cell_type": "code",
   "execution_count": 12,
   "id": "74783557-cc32-4895-ac0f-d518f46941f7",
   "metadata": {},
   "outputs": [],
   "source": [
    "data['rate'] = data['rate'].str.split('/').str[0].astype(float)"
   ]
  },
  {
   "cell_type": "code",
   "execution_count": 13,
   "id": "c0b1287c-ac98-4b7f-8051-d381864cd771",
   "metadata": {},
   "outputs": [
    {
     "data": {
      "text/html": [
       "<div>\n",
       "<style scoped>\n",
       "    .dataframe tbody tr th:only-of-type {\n",
       "        vertical-align: middle;\n",
       "    }\n",
       "\n",
       "    .dataframe tbody tr th {\n",
       "        vertical-align: top;\n",
       "    }\n",
       "\n",
       "    .dataframe thead th {\n",
       "        text-align: right;\n",
       "    }\n",
       "</style>\n",
       "<table border=\"1\" class=\"dataframe\">\n",
       "  <thead>\n",
       "    <tr style=\"text-align: right;\">\n",
       "      <th></th>\n",
       "      <th>name</th>\n",
       "      <th>online_order</th>\n",
       "      <th>book_table</th>\n",
       "      <th>rate</th>\n",
       "      <th>votes</th>\n",
       "      <th>approx_cost(for two people)</th>\n",
       "      <th>listed_in(type)</th>\n",
       "    </tr>\n",
       "  </thead>\n",
       "  <tbody>\n",
       "    <tr>\n",
       "      <th>0</th>\n",
       "      <td>Jalsa</td>\n",
       "      <td>Yes</td>\n",
       "      <td>Yes</td>\n",
       "      <td>4.1</td>\n",
       "      <td>775</td>\n",
       "      <td>800</td>\n",
       "      <td>Buffet</td>\n",
       "    </tr>\n",
       "    <tr>\n",
       "      <th>1</th>\n",
       "      <td>Spice Elephant</td>\n",
       "      <td>Yes</td>\n",
       "      <td>No</td>\n",
       "      <td>4.1</td>\n",
       "      <td>787</td>\n",
       "      <td>800</td>\n",
       "      <td>Buffet</td>\n",
       "    </tr>\n",
       "    <tr>\n",
       "      <th>2</th>\n",
       "      <td>San Churro Cafe</td>\n",
       "      <td>Yes</td>\n",
       "      <td>No</td>\n",
       "      <td>3.8</td>\n",
       "      <td>918</td>\n",
       "      <td>800</td>\n",
       "      <td>Buffet</td>\n",
       "    </tr>\n",
       "  </tbody>\n",
       "</table>\n",
       "</div>"
      ],
      "text/plain": [
       "              name online_order book_table  rate  votes  \\\n",
       "0            Jalsa          Yes        Yes   4.1    775   \n",
       "1   Spice Elephant          Yes         No   4.1    787   \n",
       "2  San Churro Cafe          Yes         No   3.8    918   \n",
       "\n",
       "   approx_cost(for two people) listed_in(type)  \n",
       "0                          800          Buffet  \n",
       "1                          800          Buffet  \n",
       "2                          800          Buffet  "
      ]
     },
     "execution_count": 13,
     "metadata": {},
     "output_type": "execute_result"
    }
   ],
   "source": [
    "data.head(3)"
   ]
  },
  {
   "cell_type": "code",
   "execution_count": 14,
   "id": "6afbab88-2f21-4fb8-b912-0fa61bbf01f6",
   "metadata": {},
   "outputs": [
    {
     "name": "stdout",
     "output_type": "stream",
     "text": [
      "<class 'pandas.core.frame.DataFrame'>\n",
      "RangeIndex: 148 entries, 0 to 147\n",
      "Data columns (total 7 columns):\n",
      " #   Column                       Non-Null Count  Dtype  \n",
      "---  ------                       --------------  -----  \n",
      " 0   name                         148 non-null    object \n",
      " 1   online_order                 148 non-null    object \n",
      " 2   book_table                   148 non-null    object \n",
      " 3   rate                         148 non-null    float64\n",
      " 4   votes                        148 non-null    int64  \n",
      " 5   approx_cost(for two people)  148 non-null    int64  \n",
      " 6   listed_in(type)              148 non-null    object \n",
      "dtypes: float64(1), int64(2), object(4)\n",
      "memory usage: 8.2+ KB\n"
     ]
    }
   ],
   "source": [
    "data.info()"
   ]
  },
  {
   "cell_type": "code",
   "execution_count": null,
   "id": "9deafb0a-409b-4948-98d5-28d10833fd02",
   "metadata": {},
   "outputs": [],
   "source": []
  },
  {
   "cell_type": "markdown",
   "id": "55e2600a-8d43-40e5-bcc2-b8c2e1da4c3e",
   "metadata": {},
   "source": [
    "- Null value check"
   ]
  },
  {
   "cell_type": "code",
   "execution_count": 15,
   "id": "89acf700-8746-4167-8fa8-bdc7a3c6e8fb",
   "metadata": {},
   "outputs": [
    {
     "data": {
      "text/plain": [
       "name                           0\n",
       "online_order                   0\n",
       "book_table                     0\n",
       "rate                           0\n",
       "votes                          0\n",
       "approx_cost(for two people)    0\n",
       "listed_in(type)                0\n",
       "dtype: int64"
      ]
     },
     "execution_count": 15,
     "metadata": {},
     "output_type": "execute_result"
    }
   ],
   "source": [
    "data.isnull().sum()"
   ]
  },
  {
   "cell_type": "code",
   "execution_count": null,
   "id": "03dd7fd9-d062-44b8-8605-5be746d7e0a3",
   "metadata": {},
   "outputs": [],
   "source": []
  },
  {
   "cell_type": "markdown",
   "id": "ebada0db-0b46-47ed-bf71-af63b8710473",
   "metadata": {},
   "source": [
    "### Type of restaurant"
   ]
  },
  {
   "cell_type": "code",
   "execution_count": 22,
   "id": "a43795af-9356-4d65-9723-9efa125fc062",
   "metadata": {},
   "outputs": [
    {
     "name": "stderr",
     "output_type": "stream",
     "text": [
      "C:\\Users\\acer\\AppData\\Local\\Temp\\ipykernel_15888\\421201872.py:1: FutureWarning: \n",
      "\n",
      "Passing `palette` without assigning `hue` is deprecated and will be removed in v0.14.0. Assign the `x` variable to `hue` and set `legend=False` for the same effect.\n",
      "\n",
      "  sns.countplot(x=data['listed_in(type)'],palette=['b', 'y', 'g', 'r'])\n"
     ]
    },
    {
     "data": {
      "image/png": "[encoded data removed]",
      "text/plain": [
       "<Figure size 640x480 with 1 Axes>"
      ]
     },
     "metadata": {},
     "output_type": "display_data"
    }
   ],
   "source": [
    "sns.countplot(x=data['listed_in(type)'],palette=['b', 'y', 'g', 'r'])\n",
    "plt.show()"
   ]
  },
  {
   "cell_type": "markdown",
   "id": "f52448b0-5815-4d4d-847b-40e5d6f97345",
   "metadata": {},
   "source": [
    "#### Conclusion: \n",
    "##### 1. The majority of the restaurant fall into the dining category\n",
    "##### 2. Dining restaurant are preferred by a larger number of individuals"
   ]
  },
  {
   "cell_type": "code",
   "execution_count": null,
   "id": "bd83f658-9672-4ec5-8d74-87b0e9fff3b8",
   "metadata": {},
   "outputs": [],
   "source": []
  },
  {
   "cell_type": "code",
   "execution_count": null,
   "id": "ae8bdd8a-8325-4e53-b7ef-36542505430f",
   "metadata": {},
   "outputs": [],
   "source": []
  },
  {
   "cell_type": "code",
   "execution_count": 25,
   "id": "a0be13b8-c918-47e4-8260-98fdf4faf7c7",
   "metadata": {},
   "outputs": [],
   "source": [
    "grouped_data = data.groupby('listed_in(type)')['votes'].sum()"
   ]
  },
  {
   "cell_type": "code",
   "execution_count": 26,
   "id": "51b433d9-eddb-48a0-b983-755009bcecac",
   "metadata": {},
   "outputs": [
    {
     "data": {
      "text/plain": [
       "listed_in(type)\n",
       "Buffet     3028\n",
       "Cafes      6434\n",
       "Dining    20363\n",
       "other      9367\n",
       "Name: votes, dtype: int64"
      ]
     },
     "execution_count": 26,
     "metadata": {},
     "output_type": "execute_result"
    }
   ],
   "source": []
  },
  {
   "cell_type": "code",
   "execution_count": 32,
   "id": "3877835e-2d1e-4a9c-81cb-045d47074db1",
   "metadata": {},
   "outputs": [
    {
     "data": {
      "image/png": "[encoded data removed]",
      "text/plain": [
       "<Figure size 640x480 with 1 Axes>"
      ]
     },
     "metadata": {},
     "output_type": "display_data"
    }
   ],
   "source": [
    "plt.plot(grouped_data,c='green',marker='o')\n",
    "plt.xlabel('Type of restaurant',c='r',size=10)\n",
    "plt.ylabel('Votes',c='r',size=10)\n",
    "plt.show()"
   ]
  },
  {
   "cell_type": "markdown",
   "id": "a67d5476-54cd-42e3-a1be-457b3faca869",
   "metadata": {},
   "source": [
    "##### The majority of restaurant received rating"
   ]
  },
  {
   "cell_type": "code",
   "execution_count": null,
   "id": "558ec125-b09a-4956-ab6d-07d2ff8117ed",
   "metadata": {},
   "outputs": [],
   "source": []
  },
  {
   "cell_type": "code",
   "execution_count": 38,
   "id": "4f59f132-9ecf-4472-a951-4bd55c115fde",
   "metadata": {},
   "outputs": [
    {
     "data": {
      "image/png": "[encoded data removed]",
      "text/plain": [
       "<Figure size 640x480 with 1 Axes>"
      ]
     },
     "metadata": {},
     "output_type": "display_data"
    }
   ],
   "source": [
    "plt.hist(data['rate'],bins=5)\n",
    "plt.show()"
   ]
  },
  {
   "cell_type": "markdown",
   "id": "dd5e592e-f529-449e-9b6d-c643fe7de392",
   "metadata": {},
   "source": [
    "#### Conclusion:\n",
    "##### The majority of restaurant received ratings ranging frorm 3.5 to 4"
   ]
  },
  {
   "cell_type": "code",
   "execution_count": null,
   "id": "12fd3da4-548c-44af-bd8e-5278f29ade07",
   "metadata": {},
   "outputs": [],
   "source": []
  },
  {
   "cell_type": "code",
   "execution_count": null,
   "id": "99937b80-e97c-423b-aec4-f81b2a08738b",
   "metadata": {},
   "outputs": [],
   "source": []
  },
  {
   "cell_type": "code",
   "execution_count": 44,
   "id": "af104a2d-d435-4ff9-9137-0eeaf05d5431",
   "metadata": {},
   "outputs": [
    {
     "data": {
      "image/png": "[encoded data removed]",
      "text/plain": [
       "<Figure size 640x480 with 1 Axes>"
      ]
     },
     "metadata": {},
     "output_type": "display_data"
    }
   ],
   "source": [
    "sns.countplot(x=data['approx_cost(for two people)'])\n",
    "plt.show()"
   ]
  },
  {
   "cell_type": "markdown",
   "id": "6fe6f631-cf21-4df1-bb9c-54fcecc88924",
   "metadata": {},
   "source": [
    "#### Conclusion:\n",
    "##### The majority of couples prefer restaurants with an approximate cost of 300 rupees"
   ]
  },
  {
   "cell_type": "code",
   "execution_count": null,
   "id": "201e2337-5dd5-4eb0-a172-74004dee949d",
   "metadata": {},
   "outputs": [],
   "source": []
  },
  {
   "cell_type": "code",
   "execution_count": null,
   "id": "27f762c9-15aa-4c23-bddb-e149e06520f0",
   "metadata": {},
   "outputs": [],
   "source": []
  },
  {
   "cell_type": "code",
   "execution_count": 47,
   "id": "be6ba0dd-8269-4dc2-8ef4-ec6d78c7e068",
   "metadata": {},
   "outputs": [
    {
     "data": {
      "image/png": "[encoded data removed]",
      "text/plain": [
       "<Figure size 640x480 with 1 Axes>"
      ]
     },
     "metadata": {},
     "output_type": "display_data"
    }
   ],
   "source": [
    "sns.boxplot(x='online_order',y='rate',data=data)\n",
    "plt.show()"
   ]
  },
  {
   "cell_type": "markdown",
   "id": "d97a8736-d8fc-4d63-8771-6b36cb1ffdd4",
   "metadata": {},
   "source": [
    "#### Conclusion :\n",
    "##### Offline orders received lower ratings in comparison to online orders, which obtained excellent ratings"
   ]
  },
  {
   "cell_type": "code",
   "execution_count": null,
   "id": "034ddaa3-6fba-4e56-88ec-76386d481778",
   "metadata": {},
   "outputs": [],
   "source": []
  },
  {
   "cell_type": "code",
   "execution_count": null,
   "id": "e5724bed-580c-4dc6-a91b-375551ee4980",
   "metadata": {},
   "outputs": [],
   "source": []
  },
  {
   "cell_type": "code",
   "execution_count": 51,
   "id": "60b8e0cf-c32a-446f-95e3-0d71f7000ae2",
   "metadata": {},
   "outputs": [],
   "source": [
    "pivot_table = data.pivot_table(index='listed_in(type)',columns='online_order',aggfunc='size',fill_value=0)"
   ]
  },
  {
   "cell_type": "code",
   "execution_count": 53,
   "id": "dccd5d7c-77d8-4565-a88d-612eaec36bac",
   "metadata": {},
   "outputs": [
    {
     "data": {
      "image/png": "[encoded data removed]",
      "text/plain": [
       "<Figure size 640x480 with 2 Axes>"
      ]
     },
     "metadata": {},
     "output_type": "display_data"
    }
   ],
   "source": [
    "sns.heatmap(pivot_table,annot=True,cmap='YlGnBu',fmt='d')\n",
    "plt.show()"
   ]
  },
  {
   "cell_type": "markdown",
   "id": "f9b9d131-cf14-4c0c-b643-09498c80fdbf",
   "metadata": {},
   "source": [
    "#### Conclusion :\n",
    "##### Dining restaurants primarily accept offline orders, where as cafes primarily receive online orders. \n",
    " ##### This suggests that clients prefer to place orders in person at restaurants , but prefer online ordering at cafes"
   ]
  },
  {
   "cell_type": "code",
   "execution_count": null,
   "id": "e38a426d-c425-4902-9265-6a218fee5cc5",
   "metadata": {},
   "outputs": [],
   "source": []
  }
 ],
 "metadata": {
  "kernelspec": {
   "display_name": "Python 3 (ipykernel)",
   "language": "python",
   "name": "python3"
  },
  "language_info": {
   "codemirror_mode": {
    "name": "ipython",
    "version": 3
   },
   "file_extension": ".py",
   "mimetype": "text/x-python",
   "name": "python",
   "nbconvert_exporter": "python",
   "pygments_lexer": "ipython3",
   "version": "3.12.3"
  }
 },
 "nbformat": 4,
 "nbformat_minor": 5
}
